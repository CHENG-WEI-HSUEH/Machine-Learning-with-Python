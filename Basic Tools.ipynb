{
    "cells": [
        {
            "metadata": {
                "collapsed": true
            },
            "cell_type": "markdown",
            "source": "# Chapter 1 - Vector, Matrix & Array\n\n**_CHENG-WEI, HSUEH_**"
        },
        {
            "metadata": {},
            "cell_type": "markdown",
            "source": "## 1-1 Declear a array"
        },
        {
            "metadata": {},
            "cell_type": "code",
            "source": "#First import the library, numpy - a tool used to cope with array.   \n\nimport numpy as np\n\n#Declear a raw dimension array with numpy\nR1_arr = np.array([1,2,3,4,5,6,7])\n\n#Declear a two-dimension array with numpy\nD2_arr = np.array([[1,4],[2,5],[3,6]])\n\n#Declear a column array with numpy\nC1_arr = np.array([[1],[2],[3]])\n\n#Now print them out\nprint(R1_arr)\nprint(D2_arr)\nprint(C1_arr)",
            "execution_count": 15,
            "outputs": [
                {
                    "output_type": "stream",
                    "text": "[1 2 3 4 5 6 7]\n[[1 4]\n [2 5]\n [3 6]]\n[[1]\n [2]\n [3]]\n",
                    "name": "stdout"
                }
            ]
        },
        {
            "metadata": {},
            "cell_type": "markdown",
            "source": "## 1-2 Declear a matrix"
        },
        {
            "metadata": {},
            "cell_type": "code",
            "source": "#First import the library, numpy - a tool used to cope with matrix.   \n\nimport numpy as np\n\n#Declear a raw dimension matrix with numpy\nR1_mat = np.mat([1,2,3])\n\n#Declear a two-dimension matrix with numpy\nD2_mat = np.mat([[1,4],[2,5],[3,6]])\n\n#Declear a column matrix with numpy\nC1_mat = np.mat([[1],[2],[3]])\n\n#Now print them out\nprint(R1_mat)\nprint(D2_mat)\nprint(C1_mat)",
            "execution_count": 5,
            "outputs": [
                {
                    "output_type": "stream",
                    "text": "[[1 2 3]]\n[[1 4]\n [2 5]\n [3 6]]\n[[1]\n [2]\n [3]]\n",
                    "name": "stdout"
                }
            ]
        },
        {
            "metadata": {},
            "cell_type": "markdown",
            "source": "**Review**\n\n1. Although matrixs resemble arrays, in fact, the standard data structure of numpy is arrays; thus, most returning variables are arrays.\n2. Based on the official document, matrixs is planned to be removed in the future, replaced by arrays.\n\n## Chapter 1-3 Declear a sparse matrix(array)\n**An array with sparse non-zero variable**"
        },
        {
            "metadata": {},
            "cell_type": "code",
            "source": "#Import library\nimport numpy as np\nfrom scipy import sparse\n\n#Declear an array\narr = np.array([[0,0],\n                [0,1],\n                [3,0]])\n\n#Produce a compressed spare array\narr_sparse = sparse.csr_matrix(arr)\n\n'''\nIn some situations, when anaylzed, the data with massive zero-variable can turn into sparse arrays so as to reduce wasted memory and time.\n\nNow let's look the array after compression\n'''\n\nprint(arr_sparse)",
            "execution_count": 41,
            "outputs": [
                {
                    "output_type": "stream",
                    "text": "  (1, 1)\t1\n  (2, 0)\t3\n",
                    "name": "stdout"
                }
            ]
        },
        {
            "metadata": {},
            "cell_type": "code",
            "source": "#Another bigger sparse matrix\narr_2 = np.array([[0 ,0 ,0 ,1 ,0 ,0],\n                [0 ,2 ,0 ,0 ,0 ,0],\n                [0 ,9 ,0 ,0 ,4 ,0],\n                [0 ,0 ,0 ,0 ,0 ,0],\n                [0 ,3 ,0 ,0 ,0 ,0],\n                [0 ,0 ,0 ,0 ,5 ,0]])\narr_sparse2 = sparse.csr_matrix(arr_2)\nprint(arr_sparse2)",
            "execution_count": 43,
            "outputs": [
                {
                    "output_type": "stream",
                    "text": "  (0, 3)\t1\n  (1, 1)\t2\n  (2, 1)\t9\n  (2, 4)\t4\n  (4, 1)\t3\n  (5, 4)\t5\n",
                    "name": "stdout"
                }
            ]
        },
        {
            "metadata": {},
            "cell_type": "markdown",
            "source": "## 1-4 & 1-5 Select the elemts & the deailed information of arrays"
        },
        {
            "metadata": {},
            "cell_type": "code",
            "source": "#Take above arrays as an example\n\n#Select the third element in one row array\nprint(R1_arr[2])\n\n#Select the elements from third to sixth in one row array\nprint(R1_arr[2:5])\n\n#Select the all of the elements in one row array\nprint(R1_arr[:])\n\n#Select an element in a 2-dimension array\nprint(arr[1,0])\n\n#Select the elements in a 2-dimension array\nprint(arr_2[2:,3:-1])\n\n\n'''\nA way to reverse array\n'''\nprint(R1_arr[::-1])\n\n'''\nChapter 1-5 The detailed information of arrays\n'''\n\n#Get the shape of arrays\nprint(R1_arr.shape)\n\n#Size represents the total number of elements\nprint(R1_arr.size)\n\n#the number of dimension\nprint(R1_arr.ndim)",
            "execution_count": 49,
            "outputs": [
                {
                    "output_type": "stream",
                    "text": "3\n[3 4 5]\n[1 2 3 4 5 6 7]\n0\n[[0 4]\n [0 0]\n [0 0]\n [0 5]]\n[7 6 5 4 3 2 1]\n(7,)\n7\n1\n",
                    "name": "stdout"
                }
            ]
        }
    ],
    "metadata": {
        "kernelspec": {
            "name": "python3",
            "display_name": "Python 3.7",
            "language": "python"
        },
        "language_info": {
            "name": "python",
            "version": "3.7.10",
            "mimetype": "text/x-python",
            "codemirror_mode": {
                "name": "ipython",
                "version": 3
            },
            "pygments_lexer": "ipython3",
            "nbconvert_exporter": "python",
            "file_extension": ".py"
        }
    },
    "nbformat": 4,
    "nbformat_minor": 1
}