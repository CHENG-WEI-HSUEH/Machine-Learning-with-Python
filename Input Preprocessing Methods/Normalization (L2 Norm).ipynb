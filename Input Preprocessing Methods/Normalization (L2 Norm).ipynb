{
 "cells": [
  {
   "cell_type": "markdown",
   "id": "f27aa3c3-595b-4e3a-9314-9526c160232f",
   "metadata": {},
   "source": [
    "# Normalization (L1/L2 Norm): Concept, Application, and Implementation\n",
    "\n",
    "## 1. Applied Field and Purpose\n",
    "\n",
    "**Applied Field:**\n",
    "\n",
    "* Machine Learning\n",
    "* Data Preprocessing\n",
    "* Feature Engineering\n",
    "\n",
    "**Purpose:**\n",
    "Normalization using L1 or L2 norms scales feature vectors so that their norm equals 1. This is important for algorithms that rely on vector magnitude or direction, such as k-NN, SVM, and clustering algorithms.\n"
   ]
  },
  {
   "cell_type": "markdown",
   "id": "b4f9003f-78bf-43e9-8abf-a77579f0c834",
   "metadata": {},
   "source": [
    "## 2. Mathematical Formula\n",
    "\n",
    "Given a feature vector $\\mathbf{x} = [x_1, x_2, \\dots, x_n]$,\n",
    "\n",
    "* **L1 Normalization:**\n",
    "\n",
    "$$\n",
    "    \\mathbf{x'} = \\frac{\\mathbf{x}}{\\|\\mathbf{x}\\|_1} = \\frac{\\mathbf{x}}{\\sum_{i=1}^{n} |x_i|}\n",
    "$$\n",
    "\n",
    "* **L2 Normalization:**\n",
    "\n",
    "$$\n",
    "    \\mathbf{x'} = \\frac{\\mathbf{x}}{\\|\\mathbf{x}\\|_2} = \\frac{\\mathbf{x}}{\\sqrt{\\sum_{i=1}^{n} x_i^2}}\n",
    "$$\n"
   ]
  },
  {
   "cell_type": "markdown",
   "id": "8b1178cb-df7f-4bcf-bb4f-2a00704b4bd6",
   "metadata": {},
   "source": [
    "## 3. Python Implementation Example"
   ]
  },
  {
   "cell_type": "code",
   "execution_count": 58,
   "id": "4e7023a9-faa1-42cd-b278-cb9627c312cc",
   "metadata": {},
   "outputs": [
    {
     "name": "stdout",
     "output_type": "stream",
     "text": [
      "L1 Normalized: [ 0.16666667 -0.33333333  0.5       ]\n",
      "L2 Normalized: [ 0.26726124 -0.53452248  0.80178373]\n"
     ]
    }
   ],
   "source": [
    "import numpy as np\n",
    "\n",
    "def l1_normalize(data):\n",
    "    norm = np.sum(np.abs(data))\n",
    "    return data / norm if norm != 0 else data\n",
    "\n",
    "def l2_normalize(data):\n",
    "    norm = np.sqrt(np.sum(data ** 2))\n",
    "    return data / norm if norm != 0 else data\n",
    "\n",
    "# Example usage\n",
    "data = np.array([10, -20, 30])\n",
    "print(\"L1 Normalized:\", l1_normalize(data))\n",
    "print(\"L2 Normalized:\", l2_normalize(data))"
   ]
  },
  {
   "cell_type": "markdown",
   "id": "f334cd0b-315d-4867-986c-edd9fe83674d",
   "metadata": {},
   "source": [
    "## 4. C++ Implementation Example\n",
    "\n",
    "```cpp\n",
    "#include <iostream>\n",
    "#include <vector>\n",
    "#include <cmath>\n",
    "#include <numeric>\n",
    "\n",
    "using namespace std;\n",
    "vector<double> l1_normalize(const vector<double>& data) \n",
    "{\n",
    "    double norm = 0.0;\n",
    "    for (double val : data) norm += abs(val);\n",
    "    vector<double> normalized;\n",
    "    for (double val : data) normalized.push_back(norm != 0.0 ? val / norm : val);\n",
    "    return normalized;\n",
    "}\n",
    "\n",
    "vector<double> l2_normalize(const vector<double>& data) \n",
    "{\n",
    "    double norm = 0.0;\n",
    "    for (double val : data) norm += val * val;\n",
    "    norm = sqrt(norm);\n",
    "    vector<double> normalized;\n",
    "    for (double val : data) normalized.push_back(norm != 0.0 ? val / norm : val);\n",
    "    return normalized;\n",
    "}\n",
    "\n",
    "int main() \n",
    "{\n",
    "    vector<double> data = {10, -20, 30};\n",
    "    auto l1 = l1_normalize(data);\n",
    "    auto l2 = l2_normalize(data);\n",
    "    \n",
    "    cout << \"L1 Normalized: \";\n",
    "    for (double val : l1) cout << val << \" \";\n",
    "    cout << endl;\n",
    "    \n",
    "    cout << \"L2 Normalized: \";\n",
    "    for (double val : l2) cout << val << \" \";\n",
    "    cout << endl;\n",
    "    \n",
    "    return 0;\n",
    "}\n",
    "```"
   ]
  },
  {
   "cell_type": "markdown",
   "id": "94f4212b-66ad-41ae-bad0-376586956e72",
   "metadata": {},
   "source": [
    "## 5. Summary\n",
    "\n",
    "* **Normalization (L1/L2 Norm)** scales feature vectors to have a unit norm.\n",
    "* L1 normalization preserves sparsity, useful for sparse datasets.\n",
    "* L2 normalization is commonly used for distance and angle calculations.\n",
    "* Python and C++ implementations both rely on computing norms and dividing each element by the norm."
   ]
  },
  {
   "cell_type": "markdown",
   "id": "1cea2dbe-8281-431e-8eae-7fef45bf90f2",
   "metadata": {},
   "source": [
    "## 6. Difference Between L1 and L2 Normalization\n",
    "\n",
    "* **Mathematical Meaning:**\n",
    "\n",
    "  * L1 norm measures the sum of absolute values. It emphasizes sparsity and robustness to outliers.\n",
    "  * L2 norm measures the square root of the sum of squares. It emphasizes energy or magnitude of the vector.\n",
    "\n",
    "* **Application Differences:**\n",
    "\n",
    "  * **L1 Normalization:**\n",
    "\n",
    "    * Suitable for sparse feature spaces such as text data (e.g., word counts).\n",
    "    * Often used in Lasso regression.\n",
    "  * **L2 Normalization:**\n",
    "\n",
    "    * Suitable for models where distance or angle is important, such as k-NN, SVM, PCA.\n",
    "    * Common in Ridge regression and neural networks.\n",
    "\n",
    "* **Normalization (L1/L2 Norm)** scales feature vectors to have a unit norm.\n",
    "\n",
    "* L1 normalization preserves sparsity, useful for sparse datasets.\n",
    "\n",
    "* L2 normalization is commonly used for distance and angle calculations.\n",
    "\n",
    "* Python and C++ implementations both rely on computing norms and dividing each element by the norm."
   ]
  },
  {
   "cell_type": "code",
   "execution_count": null,
   "id": "8fcf4a02-bd8d-48a1-bdb0-bedddf52ec8c",
   "metadata": {},
   "outputs": [],
   "source": []
  }
 ],
 "metadata": {
  "kernelspec": {
   "display_name": "Python 3 (ipykernel)",
   "language": "python",
   "name": "python3"
  },
  "language_info": {
   "codemirror_mode": {
    "name": "ipython",
    "version": 3
   },
   "file_extension": ".py",
   "mimetype": "text/x-python",
   "name": "python",
   "nbconvert_exporter": "python",
   "pygments_lexer": "ipython3",
   "version": "3.12.4"
  }
 },
 "nbformat": 4,
 "nbformat_minor": 5
}
