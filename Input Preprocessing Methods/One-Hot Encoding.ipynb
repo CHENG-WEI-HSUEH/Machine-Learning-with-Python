{
 "cells": [
  {
   "cell_type": "markdown",
   "id": "51a41777-0d25-4d6c-b1c6-eb0821974e80",
   "metadata": {},
   "source": [
    "# One-Hot Encoding: Concept, Application, and Implementation\n",
    "\n",
    "## 1. Applied Field and Purpose\n",
    "\n",
    "**Applied Field:**\n",
    "\n",
    "* Machine Learning\n",
    "* Natural Language Processing (NLP)\n",
    "* Data Preprocessing\n",
    "\n",
    "**Purpose:**\n",
    "One-Hot Encoding is a method for converting categorical variables into a numerical format suitable for machine learning models. It replaces each category with a binary vector indicating the presence (1) or absence (0) of a category.\n"
   ]
  },
  {
   "cell_type": "markdown",
   "id": "27c689fd-d1f4-4489-b695-e27e5b320792",
   "metadata": {},
   "source": [
    "## 2. Mathematical Formula\n",
    "\n",
    "Given a categorical variable $C$ with $k$ unique categories $\\{c_1, c_2, \\dots, c_k\\}$, One-Hot Encoding maps $C$ into a vector $\\mathbf{v} \\in \\{0,1\\}^k$ such that:\n",
    "\n",
    "$$\n",
    "\\mathbf{v}_i =\n",
    "\\begin{cases}\n",
    "1, & \\text{if the category is } c_i \\\\\n",
    "0, & \\text{otherwise}\n",
    "\\end{cases}\n",
    "$$\n",
    "\n",
    "Where $i = 1, 2, \\dots, k$."
   ]
  },
  {
   "cell_type": "markdown",
   "id": "8cd5ff0b-1268-4089-8220-1a899a7385c9",
   "metadata": {},
   "source": [
    "## 3. Python Implementation Example"
   ]
  },
  {
   "cell_type": "code",
   "execution_count": 14,
   "id": "1d990a2e-2749-4e1d-ae09-cded54758348",
   "metadata": {},
   "outputs": [
    {
     "name": "stdout",
     "output_type": "stream",
     "text": [
      "[0 1 0]\n"
     ]
    }
   ],
   "source": [
    "import numpy as np\n",
    "\n",
    "def one_hot_encode(categories, value):\n",
    "    category_to_index = {cat: idx for idx, cat in enumerate(categories)}\n",
    "    vector = np.zeros(len(categories), dtype=int)\n",
    "    vector[category_to_index[value]] = 1\n",
    "    return vector\n",
    "\n",
    "# Example usage\n",
    "categories = ['red', 'green', 'blue']\n",
    "encoded = one_hot_encode(categories, 'green')\n",
    "print(encoded)  # Output: [0 1 0]"
   ]
  },
  {
   "cell_type": "markdown",
   "id": "921e76f5-03b7-4638-bf60-0d3d739fc157",
   "metadata": {},
   "source": [
    "## 4. C++ Implementation Example"
   ]
  },
  {
   "cell_type": "markdown",
   "id": "9d55f817-e99a-4f52-b0eb-a757a6e3908a",
   "metadata": {},
   "source": [
    "```cpp\n",
    "#include <iostream>\n",
    "#include <vector>\n",
    "#include <string>\n",
    "#include <unordered_map>\n",
    "\n",
    "using namespace std;\n",
    "\n",
    "vector<int> one_hot_encode(const vector<string>& categories, const string& value) \n",
    "{\n",
    "    unordered_map<string, int> category_to_index;\n",
    "    for (int i = 0; i < categories.size(); ++i) \n",
    "        category_to_index[categories[i]] = i;\n",
    "    \n",
    "    vector<int> result(categories.size(), 0);\n",
    "    if (category_to_index.count(value)) \n",
    "        result[category_to_index[value]] = 1;\n",
    "    \n",
    "    return result;\n",
    "}\n",
    "\n",
    "int main() {\n",
    "    vector<string> categories = {\"red\", \"green\", \"blue\"};\n",
    "    vector<int> encoded = one_hot_encode(categories, \"green\");\n",
    "\n",
    "    for (int val : encoded) \n",
    "    {\n",
    "        cout << val << \" \";\n",
    "    }\n",
    "    cout << std::endl;  // Output: 0 1 0\n",
    "    return 0;\n",
    "}\n",
    "```"
   ]
  },
  {
   "cell_type": "markdown",
   "id": "ebb45c95-494d-46c8-99cd-64bbfec3799b",
   "metadata": {},
   "source": [
    "## 5. Summary\n",
    "\n",
    "* **One-Hot Encoding** is simple yet effective for converting categorical features.\n",
    "* It is widely used in ML pipelines where models cannot handle string labels directly.\n",
    "* Python and C++ implementations both rely on mapping the category index to a binary vector.\n"
   ]
  },
  {
   "cell_type": "code",
   "execution_count": null,
   "id": "8461c286-5a4e-4174-af3f-2e08cc9b4a6b",
   "metadata": {},
   "outputs": [],
   "source": []
  }
 ],
 "metadata": {
  "kernelspec": {
   "display_name": "Python 3 (ipykernel)",
   "language": "python",
   "name": "python3"
  },
  "language_info": {
   "codemirror_mode": {
    "name": "ipython",
    "version": 3
   },
   "file_extension": ".py",
   "mimetype": "text/x-python",
   "name": "python",
   "nbconvert_exporter": "python",
   "pygments_lexer": "ipython3",
   "version": "3.12.4"
  }
 },
 "nbformat": 4,
 "nbformat_minor": 5
}
