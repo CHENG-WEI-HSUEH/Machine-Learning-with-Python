{
 "cells": [
  {
   "cell_type": "markdown",
   "id": "b818f78b-440f-4d5c-9ca4-3eaaaeffd4b1",
   "metadata": {},
   "source": [
    "# Standardization (Z-Score): Concept, Application, and Implementation\n",
    "\n",
    "## 1. Applied Field and Purpose\n",
    "\n",
    "**Applied Field:**\n",
    "\n",
    "* Machine Learning\n",
    "* Data Preprocessing\n",
    "* Feature Engineering\n",
    "\n",
    "**Purpose:**\n",
    "Standardization, also known as Z-Score Normalization, transforms numerical features into a distribution with zero mean and unit variance. It is crucial for algorithms sensitive to feature scales and distributions such as k-NN, SVM, PCA, and neural networks.\n"
   ]
  },
  {
   "cell_type": "markdown",
   "id": "92dd5369-2700-443f-ac2d-07922f26d5e1",
   "metadata": {},
   "source": [
    "## 2. Mathematical Formula\n",
    "\n",
    "Given a feature value $x$ from feature vector $X$, the standardized value $z$ is computed as:\n",
    "\n",
    "$$\n",
    "    z = \\frac{x - \\mu}{\\sigma}\n",
    "$$\n",
    "\n",
    "Where:\n",
    "\n",
    "* $\\mu$ is the mean of $X$.\n",
    "* $\\sigma$ is the standard deviation of $X$.\n"
   ]
  },
  {
   "cell_type": "markdown",
   "id": "c3b6e6fc-8ab1-474f-803d-307cbb6d3996",
   "metadata": {},
   "source": [
    "## 3. Python Implementation Example\n"
   ]
  },
  {
   "cell_type": "code",
   "execution_count": 51,
   "id": "3fd31c42-23d4-4b86-8c18-45fb7e628b42",
   "metadata": {},
   "outputs": [
    {
     "name": "stdout",
     "output_type": "stream",
     "text": [
      "[-1.41421356 -0.70710678  0.          0.70710678  1.41421356]\n"
     ]
    }
   ],
   "source": [
    "import numpy as np\n",
    "\n",
    "def standardize(data):\n",
    "    mean = np.mean(data)\n",
    "    std = np.std(data)\n",
    "    standardized = (data - mean) / std\n",
    "    return standardized\n",
    "\n",
    "# Example usage\n",
    "data = np.array([10, 20, 30, 40, 50])\n",
    "standardized_data = standardize(data)\n",
    "print(standardized_data)"
   ]
  },
  {
   "cell_type": "markdown",
   "id": "d1b3fd91-dc50-4425-bafe-7605b76526ca",
   "metadata": {},
   "source": [
    "## 4. C++ Implementation Example\n",
    "\n",
    "```cpp\n",
    "#include <iostream>\n",
    "#include <vector>\n",
    "#include <numeric>\n",
    "#include <cmath>\n",
    "using namespace std;\n",
    "\n",
    "vector<double> standardize(const vector<double>& data) \n",
    "{\n",
    "    double mean = accumulate(data.begin(), data.end(), 0.0) / data.size();\n",
    "    double variance = 0.0;\n",
    "    for (double val : data) \n",
    "        variance += (val - mean) * (val - mean);\n",
    "    \n",
    "    variance /= data.size();\n",
    "    double stddev = sqrt(variance);\n",
    "    \n",
    "    vector<double> standardized;\n",
    "    for (double val : data) \n",
    "        standardized.push_back((val - mean) / stddev);\n",
    "    }\n",
    "    return standardized;\n",
    "}\n",
    "\n",
    "int main() {\n",
    "    vector<double> data = {10, 20, 30, 40, 50};\n",
    "    auto standardized = standardize(data);\n",
    "    for (double val : standardized) {\n",
    "        cout << val << \" \";\n",
    "    }\n",
    "    cout << endl;\n",
    "    return 0;\n",
    "}\n",
    "```\n",
    "\n",
    "\n",
    "\n"
   ]
  },
  {
   "cell_type": "markdown",
   "id": "850d6bd9-2c13-4e66-8334-8d944cc0bdad",
   "metadata": {},
   "source": [
    "## 5. Summary\n",
    "\n",
    "* **Standardization (Z-Score)** ensures features have zero mean and unit variance.\n",
    "* It is particularly useful when features have different scales but similar importance.\n",
    "* Python and C++ implementations both rely on calculating the mean and standard deviation before applying the formula.\n"
   ]
  },
  {
   "cell_type": "code",
   "execution_count": null,
   "id": "aefa3ba2-4a49-4924-8a35-78c67a00c80d",
   "metadata": {},
   "outputs": [],
   "source": []
  }
 ],
 "metadata": {
  "kernelspec": {
   "display_name": "Python 3 (ipykernel)",
   "language": "python",
   "name": "python3"
  },
  "language_info": {
   "codemirror_mode": {
    "name": "ipython",
    "version": 3
   },
   "file_extension": ".py",
   "mimetype": "text/x-python",
   "name": "python",
   "nbconvert_exporter": "python",
   "pygments_lexer": "ipython3",
   "version": "3.12.4"
  }
 },
 "nbformat": 4,
 "nbformat_minor": 5
}
