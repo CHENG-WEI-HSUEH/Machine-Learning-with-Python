{
 "cells": [
  {
   "cell_type": "markdown",
   "id": "b33ec9c7-c1d7-46a9-83fa-cdb3359b1b47",
   "metadata": {},
   "source": [
    "# Min-Max Scaling: Concept, Application, and Implementation\n",
    "\n",
    "## 1. Applied Field and Purpose\n",
    "\n",
    "**Applied Field:**\n",
    "\n",
    "* Machine Learning\n",
    "* Data Preprocessing\n",
    "* Feature Engineering\n",
    "\n",
    "**Purpose:**\n",
    "Min-Max Scaling transforms numerical features into a fixed range, usually $[0, 1]$. It ensures that all features contribute equally to model training, especially in algorithms sensitive to feature magnitude such as k-NN, SVM, and gradient-based methods.\n"
   ]
  },
  {
   "cell_type": "markdown",
   "id": "97022e58-243f-4f84-8c43-23c89b96a327",
   "metadata": {},
   "source": [
    "## 2. Mathematical Formula\n",
    "\n",
    "Given a feature value $x$ from feature vector $X$, the Min-Max Scaled value $x'$ is computed as:\n",
    "\n",
    "$$\n",
    "    x' = \\frac{x - \\min(X)}{\\max(X) - \\min(X)}\n",
    "$$\n",
    "\n",
    "Where:\n",
    "\n",
    "* $\\min(X)$ is the minimum value in $X$.\n",
    "* $\\max(X)$ is the maximum value in $X$.\n",
    "\n",
    "Optional: Scaling to a custom range $[a, b]$ is done by:\n",
    "\n",
    "$$\n",
    "    x' = a + \\frac{(x - \\min(X)) \\times (b - a)}{\\max(X) - \\min(X)}\n",
    "$$"
   ]
  },
  {
   "cell_type": "markdown",
   "id": "5e21dd2d-0e88-4111-989a-6af9dd93d1ae",
   "metadata": {},
   "source": [
    "## 3. Python Implementation Example"
   ]
  },
  {
   "cell_type": "code",
   "execution_count": 41,
   "id": "bcfdfeba-99e3-4f9e-90e0-b9010114f90c",
   "metadata": {},
   "outputs": [
    {
     "name": "stdout",
     "output_type": "stream",
     "text": [
      "[0.   0.25 0.5  0.75 1.  ]\n"
     ]
    }
   ],
   "source": [
    "import numpy as np\n",
    "\n",
    "def min_max_scale(data, feature_range=(0, 1)):\n",
    "    min_val = np.min(data)\n",
    "    max_val = np.max(data)\n",
    "    scale_min, scale_max = feature_range\n",
    "    scaled = scale_min + (data - min_val) * (scale_max - scale_min) / (max_val - min_val)\n",
    "    return scaled\n",
    "\n",
    "# Example usage\n",
    "data = np.array([10, 20, 30, 40, 50])\n",
    "scaled_data = min_max_scale(data)\n",
    "print(scaled_data)  # Output: [0.   0.25 0.5  0.75 1.  ]"
   ]
  },
  {
   "cell_type": "code",
   "execution_count": null,
   "id": "77911897-303d-4e17-9e99-dabd9de4c6e7",
   "metadata": {},
   "outputs": [],
   "source": [
    "## 4. C++ Implementation Example\n",
    "\n",
    "```cpp\n",
    "#include <iostream>\n",
    "#include <vector>\n",
    "#include <algorithm>\n",
    "\n",
    "using namespace std;\n",
    "vector<double> min_max_scale(const vector<double>& data, double scale_min = 0.0, double scale_max = 1.0) \n",
    "{\n",
    "    double min_val = *min_element(data.begin(), data.end());\n",
    "    double max_val = *max_element(data.begin(), data.end());\n",
    "    vector<double> scaled;\n",
    "    for (double val : data) \n",
    "    {\n",
    "        double res = scale_min + (val - min_val) * (scale_max - scale_min) / (max_val - min_val);\n",
    "        scaled.push_back(res);\n",
    "    }\n",
    "    return scaled;\n",
    "}\n",
    "\n",
    "int main() {\n",
    "    vector<double> data = {10, 20, 30, 40, 50};\n",
    "    auto scaled = min_max_scale(data);\n",
    "    for (double val : scaled) \n",
    "        cout << val << \" \";\n",
    "    \n",
    "    cout << endl;  // Output: 0 0.25 0.5 0.75 1\n",
    "    return 0;\n",
    "}\n",
    "```"
   ]
  },
  {
   "cell_type": "code",
   "execution_count": null,
   "id": "096ca167-f045-4991-a17d-ca86fcd36de0",
   "metadata": {},
   "outputs": [],
   "source": [
    "\n",
    "\n",
    "\n",
    "\n",
    "\n",
    "\n",
    "---\n",
    "\n",
    "## 5. Summary\n",
    "\n",
    "* **Min-Max Scaling** ensures features fall within a specified range.\n",
    "* It is widely used in ML preprocessing pipelines.\n",
    "* Python and C++ implementations both rely on finding the min and max values and applying the scaling formula.\n",
    "\n",
    "---\n"
   ]
  },
  {
   "cell_type": "code",
   "execution_count": null,
   "id": "f830426c-9269-4650-83ed-ef62f0740271",
   "metadata": {},
   "outputs": [],
   "source": []
  }
 ],
 "metadata": {
  "kernelspec": {
   "display_name": "Python 3 (ipykernel)",
   "language": "python",
   "name": "python3"
  },
  "language_info": {
   "codemirror_mode": {
    "name": "ipython",
    "version": 3
   },
   "file_extension": ".py",
   "mimetype": "text/x-python",
   "name": "python",
   "nbconvert_exporter": "python",
   "pygments_lexer": "ipython3",
   "version": "3.12.4"
  }
 },
 "nbformat": 4,
 "nbformat_minor": 5
}
