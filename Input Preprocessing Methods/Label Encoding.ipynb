{
 "cells": [
  {
   "cell_type": "markdown",
   "id": "34bcdc9b-a031-4179-8044-71be0926af07",
   "metadata": {},
   "source": [
    "# Label Encoding: Concept, Application, and Implementation\n",
    "\n",
    "## 1. Applied Field and Purpose\n",
    "\n",
    "**Applied Field:**\n",
    "\n",
    "* Machine Learning\n",
    "* Data Preprocessing\n",
    "\n",
    "**Purpose:**\n",
    "Label Encoding converts categorical labels into integer values. Each category is assigned a unique integer, making it suitable for algorithms that can interpret ordinal relationships.\n"
   ]
  },
  {
   "cell_type": "markdown",
   "id": "dca15fdb-89e9-444a-bd93-f71fa1f898fe",
   "metadata": {},
   "source": [
    "## 2. Mathematical Formula\n",
    "\n",
    "Given a categorical variable $C$ with $k$ unique categories $\\{c_1, c_2, \\dots, c_k\\}$, Label Encoding maps $C$ to an integer value $l \\in \\{0, 1, \\dots, k-1\\}$ as:\n",
    "\n",
    "$$\n",
    "L(c_i) = i - 1\n",
    "$$\n",
    "\n",
    "Where $i = 1, 2, \\dots, k$."
   ]
  },
  {
   "cell_type": "markdown",
   "id": "cfc88c41-0daf-4d6e-a9f0-a86289f48f3b",
   "metadata": {},
   "source": [
    "\n",
    "## 3. Python Implementation Example"
   ]
  },
  {
   "cell_type": "code",
   "execution_count": 25,
   "id": "e617de58-9301-4e23-ad08-4f481fb78567",
   "metadata": {},
   "outputs": [
    {
     "name": "stdout",
     "output_type": "stream",
     "text": [
      "{'red': 2, 'green': 1, 'blue': 0}\n"
     ]
    }
   ],
   "source": [
    "from sklearn.preprocessing import LabelEncoder\n",
    "\n",
    "def label_encode(categories):\n",
    "    le = LabelEncoder()\n",
    "    le.fit(categories)\n",
    "    encoded = le.transform(categories)\n",
    "    return dict(zip(categories, encoded))\n",
    "\n",
    "# Example usage\n",
    "categories = ['red', 'green', 'blue']\n",
    "encoded_dict = label_encode(categories)\n",
    "print(encoded_dict)  # Possible Output: {'red': 2, 'green': 1, 'blue': 0}"
   ]
  },
  {
   "cell_type": "code",
   "execution_count": null,
   "id": "f04a498a-b00b-42c7-9f76-bfa7981d2ef3",
   "metadata": {},
   "outputs": [],
   "source": []
  },
  {
   "cell_type": "markdown",
   "id": "51a41777-0d25-4d6c-b1c6-eb0821974e80",
   "metadata": {},
   "source": [
    "'red': 2, 'green': 1, 'blue': 0}\r\n",
    "```\r\n",
    "\r\n",
    "---\r\n",
    "\r\n",
    "## 4. C++ Implementation Example\r\n",
    "\r\n",
    "```cpp\r\n",
    "#include <iostream>\r\n",
    "#include <vector>\r\n",
    "#include <string>\r\n",
    "#include <unordered_map>\r\n",
    "\r\n",
    "std::unordered_map<std::string, int> label_encode(const std::vector<std::string>& categories) {\r\n",
    "    std::unordered_map<std::string, int> category_to_label;\r\n",
    "    for (size_t i = 0; i < categories.size(); ++i) {\r\n",
    "        category_to_label[categories[i]] = static_cast<int>(i);\r\n",
    "    }\r\n",
    "    return category_to_label;\r\n",
    "}\r\n",
    "\r\n",
    "int main() {\r\n",
    "    std::vector<std::string> categories = {\"red\", \"green\", \"blue\"};\r\n",
    "    auto encoded = label_encode(categories);\r\n",
    "    for (const auto& pair : encoded) {\r\n",
    "        std::cout << pair.first << \": \" << pair.second << std::endl;\r\n",
    "    }\r\n",
    "    return 0;\r\n",
    "}\r\n",
    "```\r\n",
    "\r\n",
    "---\r\n",
    "\r\n",
    "## 5. Summary\r\n",
    "\r\n",
    "* **Label Encoding** is simpler than One-Hot Encoding but may imply ordinal relationships.\r\n",
    "* It is often used when categorical values have an inherent order, or as a preprocessing step before One-Hot Encoding.\r\n",
    "* Implementations in Python and C++ rely on mapping categories to integer indices.\r\n",
    "\r\n",
    "---\r\n"
   ]
  },
  {
   "cell_type": "markdown",
   "id": "27c689fd-d1f4-4489-b695-e27e5b320792",
   "metadata": {},
   "source": [
    "## 2. Mathematical Formula\n",
    "\n",
    "Given a categorical variable $C$ with $k$ unique categories $\\{c_1, c_2, \\dots, c_k\\}$, One-Hot Encoding maps $C$ into a vector $\\mathbf{v} \\in \\{0,1\\}^k$ such that:\n",
    "\n",
    "$$\n",
    "\\mathbf{v}_i =\n",
    "\\begin{cases}\n",
    "1, & \\text{if the category is } c_i \\\\\n",
    "0, & \\text{otherwise}\n",
    "\\end{cases}\n",
    "$$\n",
    "\n",
    "Where $i = 1, 2, \\dots, k$."
   ]
  },
  {
   "cell_type": "markdown",
   "id": "8cd5ff0b-1268-4089-8220-1a899a7385c9",
   "metadata": {},
   "source": [
    "## 3. Python Implementation Example"
   ]
  },
  {
   "cell_type": "code",
   "execution_count": 14,
   "id": "1d990a2e-2749-4e1d-ae09-cded54758348",
   "metadata": {},
   "outputs": [
    {
     "name": "stdout",
     "output_type": "stream",
     "text": [
      "[0 1 0]\n"
     ]
    }
   ],
   "source": [
    "import numpy as np\n",
    "\n",
    "def one_hot_encode(categories, value):\n",
    "    category_to_index = {cat: idx for idx, cat in enumerate(categories)}\n",
    "    vector = np.zeros(len(categories), dtype=int)\n",
    "    vector[category_to_index[value]] = 1\n",
    "    return vector\n",
    "\n",
    "# Example usage\n",
    "categories = ['red', 'green', 'blue']\n",
    "encoded = one_hot_encode(categories, 'green')\n",
    "print(encoded)  # Output: [0 1 0]"
   ]
  },
  {
   "cell_type": "markdown",
   "id": "921e76f5-03b7-4638-bf60-0d3d739fc157",
   "metadata": {},
   "source": [
    "## 4. C++ Implementation Example"
   ]
  },
  {
   "cell_type": "markdown",
   "id": "9d55f817-e99a-4f52-b0eb-a757a6e3908a",
   "metadata": {},
   "source": [
    "```cpp\n",
    "#include <iostream>\n",
    "#include <vector>\n",
    "#include <string>\n",
    "#include <unordered_map>\n",
    "\n",
    "using namespace std;\n",
    "\n",
    "vector<int> one_hot_encode(const vector<string>& categories, const string& value) \n",
    "{\n",
    "    unordered_map<string, int> category_to_index;\n",
    "    for (int i = 0; i < categories.size(); ++i) \n",
    "        category_to_index[categories[i]] = i;\n",
    "    \n",
    "    vector<int> result(categories.size(), 0);\n",
    "    if (category_to_index.count(value)) \n",
    "        result[category_to_index[value]] = 1;\n",
    "    \n",
    "    return result;\n",
    "}\n",
    "\n",
    "int main() {\n",
    "    vector<string> categories = {\"red\", \"green\", \"blue\"};\n",
    "    vector<int> encoded = one_hot_encode(categories, \"green\");\n",
    "\n",
    "    for (int val : encoded) \n",
    "    {\n",
    "        cout << val << \" \";\n",
    "    }\n",
    "    cout << std::endl;  // Output: 0 1 0\n",
    "    return 0;\n",
    "}\n",
    "```"
   ]
  },
  {
   "cell_type": "markdown",
   "id": "ebb45c95-494d-46c8-99cd-64bbfec3799b",
   "metadata": {},
   "source": [
    "## 5. Summary\n",
    "\n",
    "* **One-Hot Encoding** is simple yet effective for converting categorical features.\n",
    "* It is widely used in ML pipelines where models cannot handle string labels directly.\n",
    "* Python and C++ implementations both rely on mapping the category index to a binary vector.\n"
   ]
  },
  {
   "cell_type": "code",
   "execution_count": null,
   "id": "8461c286-5a4e-4174-af3f-2e08cc9b4a6b",
   "metadata": {},
   "outputs": [],
   "source": []
  }
 ],
 "metadata": {
  "kernelspec": {
   "display_name": "Python 3 (ipykernel)",
   "language": "python",
   "name": "python3"
  },
  "language_info": {
   "codemirror_mode": {
    "name": "ipython",
    "version": 3
   },
   "file_extension": ".py",
   "mimetype": "text/x-python",
   "name": "python",
   "nbconvert_exporter": "python",
   "pygments_lexer": "ipython3",
   "version": "3.12.4"
  }
 },
 "nbformat": 4,
 "nbformat_minor": 5
}
