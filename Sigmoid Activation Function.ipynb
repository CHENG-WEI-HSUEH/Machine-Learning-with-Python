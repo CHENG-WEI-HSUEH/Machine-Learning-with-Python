{
 "cells": [
  {
   "cell_type": "markdown",
   "id": "21986a82-2f9b-4f3b-a260-18b5a18b0b87",
   "metadata": {},
   "source": [
    "\n",
    "# Sigmoid Activation Function: Concept, Application, and Implementation\n",
    "\n",
    "## 1. Applied Field and Purpose\n",
    "\n",
    "**Applied Field:**\n",
    "\n",
    "* Machine Learning\n",
    "* Neural Networks\n",
    "* Logistic Regression\n",
    "\n",
    "**Purpose:**\n",
    "The Sigmoid activation function transforms any real-valued number into a value between 0 and 1. It is used to model probabilities, add non-linearity in neural networks, and control output ranges in binary classification tasks.\n"
   ]
  },
  {
   "cell_type": "markdown",
   "id": "b9e90b25-585c-41c8-a4b6-e54550ebdea3",
   "metadata": {},
   "source": [
    "## 2. Mathematical Formula\n",
    "\n",
    "* **Sigmoid Activation Function:**\n",
    "\n",
    "$$\n",
    "    \\sigma(x) = \\frac{1}{1 + e^{-x}}\n",
    "$$\n",
    "\n",
    "* **Sigmoid Derivative:**\n",
    "\n",
    "$$\n",
    "    \\sigma'(x) = \\sigma(x) \\cdot (1 - \\sigma(x))\n",
    "$$\n",
    "\n",
    "The derivative formula is crucial for gradient-based optimization methods like backpropagation.\n"
   ]
  },
  {
   "cell_type": "markdown",
   "id": "d4f9bde5-394f-4a45-83d4-9c34fad54800",
   "metadata": {},
   "source": [
    "## 3. Sigmoid Graph"
   ]
  },
  {
   "cell_type": "code",
   "execution_count": 74,
   "id": "48ad3ba1-3070-4bfa-9896-93d2009c5f85",
   "metadata": {},
   "outputs": [
    {
     "data": {
      "image/png": "[encoded data removed]",
      "text/plain": [
       "<Figure size 600x400 with 1 Axes>"
      ]
     },
     "metadata": {},
     "output_type": "display_data"
    }
   ],
   "source": [
    "import numpy as np\n",
    "import matplotlib.pyplot as plt\n",
    "\n",
    "def sigmoid(x):\n",
    "    return 1 / (1 + np.exp(-x))\n",
    "\n",
    "x = np.linspace(-10, 10, 200)\n",
    "y = sigmoid(x)\n",
    "\n",
    "plt.figure(figsize=(6, 4))\n",
    "plt.plot(x, y)\n",
    "plt.title(\"Sigmoid Activation Function\")\n",
    "plt.xlabel(\"x\")\n",
    "plt.ylabel(\"σ(x)\")\n",
    "plt.grid(True)\n",
    "plt.show()"
   ]
  },
  {
   "cell_type": "markdown",
   "id": "cb207163-02dc-4c6a-a399-0887b77f881a",
   "metadata": {},
   "source": [
    "## 4. Python Implementation Example"
   ]
  },
  {
   "cell_type": "code",
   "execution_count": 77,
   "id": "0eacbb4b-c006-4b2b-8269-a7f6b4d16e52",
   "metadata": {},
   "outputs": [
    {
     "name": "stdout",
     "output_type": "stream",
     "text": [
      "Sigmoid: [0.62245933 0.73105858 0.26894142]\n",
      "Sigmoid Derivative: [0.23500371 0.19661193 0.19661193]\n"
     ]
    }
   ],
   "source": [
    "import numpy as np\n",
    "\n",
    "def sigmoid(x):\n",
    "    return 1 / (1 + np.exp(-x))\n",
    "\n",
    "def sigmoid_derivative(x):\n",
    "    s = sigmoid(x)\n",
    "    return s * (1 - s)\n",
    "\n",
    "# Example usage\n",
    "x = np.array([0.5, 1.0, -1.0])\n",
    "print(\"Sigmoid:\", sigmoid(x))\n",
    "print(\"Sigmoid Derivative:\", sigmoid_derivative(x))"
   ]
  },
  {
   "cell_type": "markdown",
   "id": "57df5846-937a-4a98-b3ff-56d18b032f90",
   "metadata": {},
   "source": [
    "## 5. C++ Implementation Example"
   ]
  },
  {
   "cell_type": "markdown",
   "id": "49166417-cdaa-40d1-aa5d-76379d71f9ce",
   "metadata": {},
   "source": [
    "```c++\n",
    "#include <iostream>\n",
    "#include <cmath>\n",
    "\n",
    "double sigmoid(double x) \n",
    "    return 1.0 / (1.0 + exp(-x));\n",
    "\n",
    "\n",
    "double sigmoid_derivative(double x) \n",
    "{\n",
    "    double s = sigmoid(x);\n",
    "    return s * (1.0 - s);\n",
    "}\n",
    "\n",
    "int main() \n",
    "{\n",
    "    double x = 0.5;\n",
    "    cout << \"Sigmoid: \" << sigmoid(x) << endl;\n",
    "    cout << \"Sigmoid Derivative: \" << sigmoid_derivative(x) << endl;\n",
    "    return 0;\n",
    "}\n",
    "```"
   ]
  },
  {
   "cell_type": "markdown",
   "id": "0dca2659-4334-4b86-863c-35794ddda079",
   "metadata": {},
   "source": [
    "## 6. Summary\n",
    "\n",
    "* **Sigmoid Function** smoothly maps input values into the (0, 1) range.\n",
    "* **Sigmoid Derivative** is required for calculating gradients during neural network training.\n",
    "* Both Python and C++ implementations demonstrate simple and efficient usage.\n",
    "* The graph of the sigmoid function visually shows its characteristic S-shape."
   ]
  },
  {
   "cell_type": "code",
   "execution_count": null,
   "id": "8fcf4a02-bd8d-48a1-bdb0-bedddf52ec8c",
   "metadata": {},
   "outputs": [],
   "source": []
  }
 ],
 "metadata": {
  "kernelspec": {
   "display_name": "Python 3 (ipykernel)",
   "language": "python",
   "name": "python3"
  },
  "language_info": {
   "codemirror_mode": {
    "name": "ipython",
    "version": 3
   },
   "file_extension": ".py",
   "mimetype": "text/x-python",
   "name": "python",
   "nbconvert_exporter": "python",
   "pygments_lexer": "ipython3",
   "version": "3.12.4"
  }
 },
 "nbformat": 4,
 "nbformat_minor": 5
}
