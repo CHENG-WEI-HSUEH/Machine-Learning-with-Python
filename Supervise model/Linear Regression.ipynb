{
 "cells": [
  {
   "cell_type": "markdown",
   "id": "88b38921-93b6-4ae0-b2ef-90f7d72458c5",
   "metadata": {},
   "source": [
    "# Linear Regression\n",
    "\n",
    "## Applied Field\n",
    "\n",
    "Linear Regression is widely used in:\n",
    "\n",
    "* Statistics\n",
    "* Machine Learning\n",
    "* Predictive Analytics\n",
    "* Econometrics\n",
    "\n",
    "## Purpose\n",
    "\n",
    "Linear Regression models the relationship between a dependent variable and one or more independent variables.\n",
    "\n",
    "* It is used for prediction, trend analysis, and determining variable relationships.\n",
    "\n",
    "## Mathematical Formula\n",
    "\n",
    "Given input features \\$X = \\[x\\_1, x\\_2, \\dots, x\\_n]\\$ and target variable \\$y\\$, the linear regression model predicts:\n",
    "\n",
    "$$\n",
    "\\hat{y} = w_1 x_1 + w_2 x_2 + \\dots + w_n x_n + b\n",
    "$$\n",
    "\n",
    "Where:\n",
    "\n",
    "* \\$w\\_i\\$ are the weights (coefficients).\n",
    "* \\$b\\$ is the bias (intercept)."
   ]
  },
  {
   "cell_type": "markdown",
   "id": "b779dfe4-2463-4dbd-84e4-169c6051411c",
   "metadata": {},
   "source": [
    "### Loss Function\n",
    "\n",
    "The most common loss function is Mean Squared Error (MSE):\n",
    "\n",
    "$$\n",
    "\\text{MSE} = \\frac{1}{m} \\sum_{i=1}^{m} (y_i - \\hat{y}_i)^2\n",
    "$$"
   ]
  },
  {
   "cell_type": "markdown",
   "id": "1a145007-f14b-4bd8-ac56-c80f7fbb9b58",
   "metadata": {},
   "source": [
    "## Least Squares Derivation (Detailed Steps)\n",
    "\n",
    "The goal is to minimize MSE with respect to \\$w\\$ and \\$b\\$. For simple linear regression with one feature \\$x\\$:\n",
    "\n",
    "Given:\n",
    "\n",
    "$$\n",
    "\\hat{y}_i = w x_i + b\n",
    "$$\n",
    "\n",
    "The MSE is:\n",
    "\n",
    "$$\n",
    "J(w, b) = \\frac{1}{m} \\sum_{i=1}^{m} (y_i - (w x_i + b))^2\n",
    "$$\n",
    "\n",
    "**Step 1: Expand the squared term:**\n",
    "\n",
    "$$\n",
    "J(w, b) = \\frac{1}{m} \\sum_{i=1}^{m} (y_i^2 - 2 y_i (w x_i + b) + (w x_i + b)^2)\n",
    "$$\n",
    "\n",
    "**Step 2: Take partial derivative with respect to \\$w\\$:**\n",
    "\n",
    "$$\n",
    "\\frac{\\partial J}{\\partial w} = \\frac{2}{m} \\sum_{i=1}^{m} (w x_i + b - y_i) x_i\n",
    "$$\n",
    "\n",
    "**Step 3: Set derivative to 0 for minimum:**\n",
    "\n",
    "$$\n",
    "\\sum (w x_i + b - y_i) x_i = 0\n",
    "$$\n",
    "\n",
    "**Step 4: Take partial derivative with respect to \\$b\\$:**\n",
    "\n",
    "$$\n",
    "\\frac{\\partial J}{\\partial b} = \\frac{2}{m} \\sum_{i=1}^{m} (w x_i + b - y_i)\n",
    "$$\n",
    "\n",
    "**Step 5: Set derivative to 0 for minimum:**\n",
    "\n",
    "$$\n",
    "\\sum (w x_i + b - y_i) = 0\n",
    "$$\n",
    "\n",
    "**Step 6: Solve the two normal equations simultaneously:**\n",
    "Expand and simplify to get the closed-form solution:\n",
    "\n",
    "$$\n",
    "\\begin{cases}\n",
    "    w = \\frac{m \\sum x_i y_i - \\sum x_i \\sum y_i}{m \\sum x_i^2 - (\\sum x_i)^2} \\\\\n",
    "    b = \\frac{\\sum y_i - w \\sum x_i}{m}\n",
    "\\end{cases}\n",
    "$$\n",
    "\n",
    "This process is called the normal equation method for least squares regression.\n"
   ]
  },
  {
   "cell_type": "markdown",
   "id": "028379d3-91b8-4080-b3b4-85071835a23c",
   "metadata": {},
   "source": [
    "## Python Implementation\n"
   ]
  },
  {
   "cell_type": "code",
   "execution_count": 141,
   "id": "8780e7bd-f32d-4f37-bc1a-a336d01e3ec2",
   "metadata": {},
   "outputs": [
    {
     "name": "stdout",
     "output_type": "stream",
     "text": [
      "Coefficient: 4.6000000000000005\n",
      "Intercept: -2.4000000000000004\n"
     ]
    },
    {
     "data": {
      "image/png": "[encoded data removed]",
      "text/plain": [
       "<Figure size 640x480 with 1 Axes>"
      ]
     },
     "metadata": {},
     "output_type": "display_data"
    }
   ],
   "source": [
    "import numpy as np\n",
    "from sklearn.linear_model import LinearRegression\n",
    "import matplotlib.pyplot as plt\n",
    "\n",
    "# Sample data\n",
    "X = np.array([[1], [2], [3], [4], [5]])\n",
    "y = np.array([2, 6, 12, 18, 19])\n",
    "\n",
    "# Model\n",
    "model = LinearRegression()\n",
    "model.fit(X, y)\n",
    "\n",
    "print(f'Coefficient: {model.coef_[0]}')\n",
    "print(f'Intercept: {model.intercept_}')\n",
    "\n",
    "# Plot\n",
    "plt.scatter(X, y, color='blue')\n",
    "plt.plot(X, model.predict(X), color='red')\n",
    "plt.title('Linear Regression Example')\n",
    "plt.xlabel('X')\n",
    "plt.ylabel('y')\n",
    "plt.grid(True)\n",
    "plt.show()"
   ]
  },
  {
   "cell_type": "markdown",
   "id": "cceb9e20-abe1-4be0-8e5c-0eba769df5b8",
   "metadata": {},
   "source": [
    "\n",
    "## C++ Implementation"
   ]
  },
  {
   "cell_type": "markdown",
   "id": "f8a6a6fd-edef-4cc4-83c4-a1a69c2815b1",
   "metadata": {},
   "source": [
    "```cpp\n",
    "#include <iostream>\n",
    "#include <vector>\n",
    "using namespace std;\n",
    "\n",
    "pair<double, double> linear_regression(const vector<double>& X, const vector<double>& y) \n",
    "{\n",
    "    double sum_x = 0, sum_y = 0, sum_xx = 0, sum_xy = 0;\n",
    "    int n = X.size();\n",
    "    for (int i = 0; i < n; ++i) \n",
    "    {\n",
    "        sum_x += X[i];\n",
    "        sum_y += y[i];\n",
    "        sum_xx += X[i] * X[i];\n",
    "        sum_xy += X[i] * y[i];\n",
    "    }\n",
    "    double slope = (n * sum_xy - sum_x * sum_y) / (n * sum_xx - sum_x * sum_x);\n",
    "    double intercept = (sum_y - slope * sum_x) / n;\n",
    "    return {slope, intercept};\n",
    "}\n",
    "\n",
    "int main() \n",
    "{\n",
    "    vector<double> X = {1, 2, 3, 4, 5};\n",
    "    vector<double> y = {2, 4, 6, 8, 10};\n",
    "\n",
    "    auto [slope, intercept] = linear_regression(X, y);\n",
    "\n",
    "    cout << \"Slope: \" << slope << \"\\n\";\n",
    "    cout << \"Intercept: \" << intercept << \"\\n\";\n",
    "\n",
    "    return 0;\n",
    "}\n",
    "```"
   ]
  },
  {
   "cell_type": "code",
   "execution_count": null,
   "id": "d8a104cb-b936-49d9-9498-3c3cf65fcdb3",
   "metadata": {},
   "outputs": [],
   "source": [
    "\n",
    "\n",
    "\n",
    "\n",
    "\n",
    "\n",
    "## Summary\n",
    "\n",
    "* **Advantage**: Simple and interpretable.\n",
    "* **Disadvantage**: Assumes linearity, sensitive to outliers.\n",
    "* **Common Alternatives**: Ridge Regression, Lasso Regression, Polynomial Regression.\n",
    "\n",
    "---\n"
   ]
  }
 ],
 "metadata": {
  "kernelspec": {
   "display_name": "Python 3 (ipykernel)",
   "language": "python",
   "name": "python3"
  },
  "language_info": {
   "codemirror_mode": {
    "name": "ipython",
    "version": 3
   },
   "file_extension": ".py",
   "mimetype": "text/x-python",
   "name": "python",
   "nbconvert_exporter": "python",
   "pygments_lexer": "ipython3",
   "version": "3.12.4"
  }
 },
 "nbformat": 4,
 "nbformat_minor": 5
}
